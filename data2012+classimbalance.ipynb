{
 "cells": [
  {
   "cell_type": "code",
   "execution_count": 21,
   "id": "d6a08aa3-55b0-4a69-a12d-3bde8b9e544b",
   "metadata": {},
   "outputs": [],
   "source": [
    "import pandas as pd\n",
    "import numpy as np\n",
    "from sklearn.model_selection import train_test_split\n",
    "from sklearn.preprocessing import LabelEncoder\n",
    "from sklearn.ensemble import RandomForestClassifier\n",
    "from sklearn.metrics import classification_report, confusion_matrix"
   ]
  },
  {
   "cell_type": "code",
   "execution_count": 22,
   "id": "eca74dab-104e-4d68-b60f-88311aa1ea23",
   "metadata": {},
   "outputs": [],
   "source": [
    "file_paths={\n",
    "    'Sat':'TestbedSatJun12Flows.csv',\n",
    "    'Sun':'TestbedSunJun13Flows.csv',\n",
    "    'Mon':'TestbedMonJun14Flows.csv',\n",
    "    'Tue':'TestbedTueJun15Flows.csv',\n",
    "    'Wed':'TestbedWedJun16Flows.csv',\n",
    "    'Thu':'TestbedThuJun17Flows.csv'}"
   ]
  },
  {
   "cell_type": "code",
   "execution_count": 23,
   "id": "ddb4a771-ae43-4112-85c4-6b27ccfe7fa5",
   "metadata": {},
   "outputs": [
    {
     "name": "stdout",
     "output_type": "stream",
     "text": [
      "Loaded total rows: 2071657\n"
     ]
    }
   ],
   "source": [
    "frames=[]\n",
    "for day,path in file_paths.items():\n",
    "    data2012=pd.read_csv(path)\n",
    "    data2012['day']=day\n",
    "    frames.append(data2012)\n",
    "\n",
    "all_data2012=pd.concat(frames,ignore_index=True)\n",
    "print(f\"Loaded total rows: {len(all_data2012)}\")"
   ]
  },
  {
   "cell_type": "code",
   "execution_count": 24,
   "id": "9e2757d9-5f99-44eb-a046-a700146409e5",
   "metadata": {},
   "outputs": [
    {
     "name": "stdout",
     "output_type": "stream",
     "text": [
      "Sat 133193\n",
      "Sun 275528\n",
      "Mon 171380\n",
      "Tue 571698\n",
      "Wed 522263\n",
      "Thu 397595\n"
     ]
    }
   ],
   "source": [
    "for day in file_paths:\n",
    "    print(day, (all_data2012['day'] == day).sum())"
   ]
  },
  {
   "cell_type": "code",
   "execution_count": 25,
   "id": "9cb01c2b-c1e5-4420-9fc1-14b4f57703f8",
   "metadata": {},
   "outputs": [
    {
     "name": "stdout",
     "output_type": "stream",
     "text": [
      "Rows before dropna: 2071657\n",
      "day\n",
      "Tue    571698\n",
      "Wed    522263\n",
      "Thu    397595\n",
      "Sun    275528\n",
      "Mon    171380\n",
      "Sat    133193\n",
      "Name: count, dtype: int64\n",
      "\n",
      "Missing values before drop:\n",
      "direction                              0\n",
      "sourceTCPFlagsDescription         430943\n",
      "destinationTCPFlagsDescription    493422\n",
      "protocolName                           0\n",
      "Label                                  0\n",
      "dtype: int64\n"
     ]
    }
   ],
   "source": [
    "print(\"Rows before dropna:\", len(all_data2012))\n",
    "print(all_data2012['day'].value_counts())\n",
    "\n",
    "cat_cols_2012 = ['direction', 'sourceTCPFlagsDescription', 'destinationTCPFlagsDescription', 'protocolName']\n",
    "print(\"\\nMissing values before drop:\")\n",
    "print(all_data2012[cat_cols_2012 + ['Label']].isna().sum())"
   ]
  },
  {
   "cell_type": "code",
   "execution_count": 26,
   "id": "55e19d4f-7bbf-402f-a723-d0431624549e",
   "metadata": {},
   "outputs": [],
   "source": [
    "session_2012=['totalSourceBytes','totalDestinationBytes','totalSourcePackets',\n",
    "    'totalDestinationPackets','direction','sourceTCPFlagsDescription',\n",
    "    'destinationTCPFlagsDescription','protocolName','sourcePort','destinationPort',\n",
    "    'startDateTime','stopDateTime']\n",
    "all_data2012=all_data2012[session_2012+['Label','day']]\n",
    "all_data2012=all_data2012.copy()"
   ]
  },
  {
   "cell_type": "code",
   "execution_count": 27,
   "id": "576c27e9-11f8-4109-a2ea-fbb75860115f",
   "metadata": {},
   "outputs": [],
   "source": [
    "#flow duration\n",
    "all_data2012['startDateTime']=pd.to_datetime(all_data2012['startDateTime'],errors='coerce')\n",
    "all_data2012['stopDateTime']=pd.to_datetime(all_data2012['stopDateTime'],errors='coerce')\n",
    "all_data2012['duration']=(all_data2012['stopDateTime']-all_data2012['startDateTime']).dt.total_seconds()\n",
    "all_data2012.drop(['startDateTime','stopDateTime'],axis=1,inplace=True)\n",
    "all_data2012['duration']=all_data2012['duration'].fillna(0).clip(lower=0)\n",
    "\n",
    "#packet ratio\n",
    "all_data2012['packet_ratio']=all_data2012['totalSourcePackets']/all_data2012['totalDestinationPackets'].replace(0,np.nan)\n",
    "all_data2012['packet_ratio']=all_data2012['packet_ratio'].fillna(0).clip(upper=10)\n",
    "\n",
    "#byte ratio\n",
    "all_data2012['byte_ratio']=all_data2012['totalSourceBytes']/all_data2012['totalDestinationBytes'].replace(0,np.nan)\n",
    "all_data2012['byte_ratio']=all_data2012['byte_ratio'].fillna(0).clip(upper=10)\n",
    "\n",
    "#average packet size source\n",
    "all_data2012['avg_packet_size_src']=all_data2012['totalSourceBytes']/all_data2012['totalSourcePackets'].replace(0,np.nan)\n",
    "all_data2012['avg_packet_size_src']=all_data2012['avg_packet_size_src'].fillna(0).clip(upper=1500)\n",
    "\n",
    "#average packet size destination\n",
    "all_data2012['avg_packet_size_dst']=all_data2012['totalDestinationBytes']/all_data2012['totalDestinationPackets'].replace(0,np.nan)\n",
    "all_data2012['avg_packet_size_dst']=all_data2012['avg_packet_size_dst'].fillna(0).clip(upper=1500)"
   ]
  },
  {
   "cell_type": "code",
   "execution_count": 28,
   "id": "d3ae6e4e-5065-4276-84a6-93bef82757ea",
   "metadata": {},
   "outputs": [
    {
     "data": {
      "text/html": [
       "<div>\n",
       "<style scoped>\n",
       "    .dataframe tbody tr th:only-of-type {\n",
       "        vertical-align: middle;\n",
       "    }\n",
       "\n",
       "    .dataframe tbody tr th {\n",
       "        vertical-align: top;\n",
       "    }\n",
       "\n",
       "    .dataframe thead th {\n",
       "        text-align: right;\n",
       "    }\n",
       "</style>\n",
       "<table border=\"1\" class=\"dataframe\">\n",
       "  <thead>\n",
       "    <tr style=\"text-align: right;\">\n",
       "      <th></th>\n",
       "      <th>totalSourceBytes</th>\n",
       "      <th>totalDestinationBytes</th>\n",
       "      <th>totalSourcePackets</th>\n",
       "      <th>totalDestinationPackets</th>\n",
       "      <th>direction</th>\n",
       "      <th>sourceTCPFlagsDescription</th>\n",
       "      <th>destinationTCPFlagsDescription</th>\n",
       "      <th>protocolName</th>\n",
       "      <th>sourcePort</th>\n",
       "      <th>destinationPort</th>\n",
       "      <th>Label</th>\n",
       "      <th>day</th>\n",
       "      <th>duration</th>\n",
       "      <th>packet_ratio</th>\n",
       "      <th>byte_ratio</th>\n",
       "      <th>avg_packet_size_src</th>\n",
       "      <th>avg_packet_size_dst</th>\n",
       "    </tr>\n",
       "  </thead>\n",
       "  <tbody>\n",
       "    <tr>\n",
       "      <th>0</th>\n",
       "      <td>128</td>\n",
       "      <td>64</td>\n",
       "      <td>2</td>\n",
       "      <td>1</td>\n",
       "      <td>L2R</td>\n",
       "      <td>F,A</td>\n",
       "      <td>F,A</td>\n",
       "      <td>tcp_ip</td>\n",
       "      <td>22441</td>\n",
       "      <td>80</td>\n",
       "      <td>Normal</td>\n",
       "      <td>Sat</td>\n",
       "      <td>0.0</td>\n",
       "      <td>2.000000</td>\n",
       "      <td>2.000000</td>\n",
       "      <td>64.000000</td>\n",
       "      <td>64.000000</td>\n",
       "    </tr>\n",
       "    <tr>\n",
       "      <th>1</th>\n",
       "      <td>128</td>\n",
       "      <td>64</td>\n",
       "      <td>2</td>\n",
       "      <td>1</td>\n",
       "      <td>L2R</td>\n",
       "      <td>F,A</td>\n",
       "      <td>F,A</td>\n",
       "      <td>tcp_ip</td>\n",
       "      <td>22445</td>\n",
       "      <td>80</td>\n",
       "      <td>Normal</td>\n",
       "      <td>Sat</td>\n",
       "      <td>0.0</td>\n",
       "      <td>2.000000</td>\n",
       "      <td>2.000000</td>\n",
       "      <td>64.000000</td>\n",
       "      <td>64.000000</td>\n",
       "    </tr>\n",
       "    <tr>\n",
       "      <th>2</th>\n",
       "      <td>128</td>\n",
       "      <td>64</td>\n",
       "      <td>2</td>\n",
       "      <td>1</td>\n",
       "      <td>L2R</td>\n",
       "      <td>F,A</td>\n",
       "      <td>F,A</td>\n",
       "      <td>tcp_ip</td>\n",
       "      <td>22444</td>\n",
       "      <td>80</td>\n",
       "      <td>Normal</td>\n",
       "      <td>Sat</td>\n",
       "      <td>0.0</td>\n",
       "      <td>2.000000</td>\n",
       "      <td>2.000000</td>\n",
       "      <td>64.000000</td>\n",
       "      <td>64.000000</td>\n",
       "    </tr>\n",
       "    <tr>\n",
       "      <th>3</th>\n",
       "      <td>2938</td>\n",
       "      <td>49570</td>\n",
       "      <td>27</td>\n",
       "      <td>76</td>\n",
       "      <td>L2L</td>\n",
       "      <td>S,R,P,A</td>\n",
       "      <td>S,P,A</td>\n",
       "      <td>tcp_ip</td>\n",
       "      <td>3248</td>\n",
       "      <td>22</td>\n",
       "      <td>Normal</td>\n",
       "      <td>Sat</td>\n",
       "      <td>0.0</td>\n",
       "      <td>0.355263</td>\n",
       "      <td>0.059270</td>\n",
       "      <td>108.814815</td>\n",
       "      <td>652.236842</td>\n",
       "    </tr>\n",
       "    <tr>\n",
       "      <th>4</th>\n",
       "      <td>644</td>\n",
       "      <td>2315</td>\n",
       "      <td>7</td>\n",
       "      <td>5</td>\n",
       "      <td>L2R</td>\n",
       "      <td>S,P,A</td>\n",
       "      <td>S,P,A</td>\n",
       "      <td>tcp_ip</td>\n",
       "      <td>1867</td>\n",
       "      <td>80</td>\n",
       "      <td>Normal</td>\n",
       "      <td>Sat</td>\n",
       "      <td>0.0</td>\n",
       "      <td>1.400000</td>\n",
       "      <td>0.278186</td>\n",
       "      <td>92.000000</td>\n",
       "      <td>463.000000</td>\n",
       "    </tr>\n",
       "  </tbody>\n",
       "</table>\n",
       "</div>"
      ],
      "text/plain": [
       "   totalSourceBytes  totalDestinationBytes  totalSourcePackets  \\\n",
       "0               128                     64                   2   \n",
       "1               128                     64                   2   \n",
       "2               128                     64                   2   \n",
       "3              2938                  49570                  27   \n",
       "4               644                   2315                   7   \n",
       "\n",
       "   totalDestinationPackets direction sourceTCPFlagsDescription  \\\n",
       "0                        1       L2R                       F,A   \n",
       "1                        1       L2R                       F,A   \n",
       "2                        1       L2R                       F,A   \n",
       "3                       76       L2L                   S,R,P,A   \n",
       "4                        5       L2R                     S,P,A   \n",
       "\n",
       "  destinationTCPFlagsDescription protocolName  sourcePort  destinationPort  \\\n",
       "0                            F,A       tcp_ip       22441               80   \n",
       "1                            F,A       tcp_ip       22445               80   \n",
       "2                            F,A       tcp_ip       22444               80   \n",
       "3                          S,P,A       tcp_ip        3248               22   \n",
       "4                          S,P,A       tcp_ip        1867               80   \n",
       "\n",
       "    Label  day  duration  packet_ratio  byte_ratio  avg_packet_size_src  \\\n",
       "0  Normal  Sat       0.0      2.000000    2.000000            64.000000   \n",
       "1  Normal  Sat       0.0      2.000000    2.000000            64.000000   \n",
       "2  Normal  Sat       0.0      2.000000    2.000000            64.000000   \n",
       "3  Normal  Sat       0.0      0.355263    0.059270           108.814815   \n",
       "4  Normal  Sat       0.0      1.400000    0.278186            92.000000   \n",
       "\n",
       "   avg_packet_size_dst  \n",
       "0            64.000000  \n",
       "1            64.000000  \n",
       "2            64.000000  \n",
       "3           652.236842  \n",
       "4           463.000000  "
      ]
     },
     "execution_count": 28,
     "metadata": {},
     "output_type": "execute_result"
    }
   ],
   "source": [
    "all_data2012.head()"
   ]
  },
  {
   "cell_type": "code",
   "execution_count": 29,
   "id": "fa2af019-1c2d-42be-b93a-57dfca8a6a4b",
   "metadata": {},
   "outputs": [
    {
     "data": {
      "text/plain": [
       "totalSourceBytes                    int64\n",
       "totalDestinationBytes               int64\n",
       "totalSourcePackets                  int64\n",
       "totalDestinationPackets             int64\n",
       "direction                          object\n",
       "sourceTCPFlagsDescription          object\n",
       "destinationTCPFlagsDescription     object\n",
       "protocolName                       object\n",
       "sourcePort                          int64\n",
       "destinationPort                     int64\n",
       "Label                              object\n",
       "day                                object\n",
       "duration                          float64\n",
       "packet_ratio                      float64\n",
       "byte_ratio                        float64\n",
       "avg_packet_size_src               float64\n",
       "avg_packet_size_dst               float64\n",
       "dtype: object"
      ]
     },
     "execution_count": 29,
     "metadata": {},
     "output_type": "execute_result"
    }
   ],
   "source": [
    "all_data2012.dtypes"
   ]
  },
  {
   "cell_type": "code",
   "execution_count": 30,
   "id": "a18d84ea-4528-4e6e-a046-59b895b938ac",
   "metadata": {},
   "outputs": [],
   "source": [
    "cat_cols_2012=['direction','sourceTCPFlagsDescription','destinationTCPFlagsDescription',\n",
    "                  'protocolName']\n",
    "all_data2012 = all_data2012.dropna(subset=['Label'])\n",
    "for col in cat_cols_2012:\n",
    "    all_data2012[col] = all_data2012[col].fillna(\"UNKNOWN\")"
   ]
  },
  {
   "cell_type": "code",
   "execution_count": 31,
   "id": "2efabc39-e704-4f82-898a-a7cbf82442cf",
   "metadata": {},
   "outputs": [],
   "source": [
    "label_encoders = {}\n",
    "\n",
    "for col in cat_cols_2012:\n",
    "    le = LabelEncoder()\n",
    "    all_data2012[col] = le.fit_transform(all_data2012[col])\n",
    "    label_encoders[col] = le "
   ]
  },
  {
   "cell_type": "code",
   "execution_count": 32,
   "id": "34948be7-b387-446f-942d-3be47dc7152f",
   "metadata": {},
   "outputs": [],
   "source": [
    "train_days=['Sat','Sun','Mon','Tue']\n",
    "test_day='Wed'\n",
    "eval_day='Thu'\n",
    "\n",
    "train_df=all_data2012[all_data2012['day'].isin(train_days)]\n",
    "test_df=all_data2012[all_data2012['day']==test_day]\n",
    "eval_df=all_data2012[all_data2012['day']==eval_day]\n",
    "\n",
    "X_train=train_df.drop(['Label','day'],axis=1)\n",
    "y_train=train_df['Label']\n",
    "X_test=test_df.drop(['Label','day'],axis=1)\n",
    "y_test=test_df['Label']\n",
    "X_eval=eval_df.drop(['Label','day'],axis=1)\n",
    "y_eval=eval_df['Label']"
   ]
  },
  {
   "cell_type": "code",
   "execution_count": 33,
   "id": "19041d52-d09e-45a0-9af2-38157513cff5",
   "metadata": {},
   "outputs": [],
   "source": [
    "clf=RandomForestClassifier(n_estimators=100,random_state=42,n_jobs=-1,max_depth=15,class_weight='balanced')\n",
    "clf.fit(X_train,y_train)"
   ]
  },
  {
   "cell_type": "code",
   "execution_count": 34,
   "id": "cf51b178-0bb6-4aa9-bdc8-a35b91933efd",
   "metadata": {},
   "outputs": [
    {
     "name": "stdout",
     "output_type": "stream",
     "text": [
      "Test Set Performance (Wed):\n",
      "[[    11      0]\n",
      " [    46 522206]]\n",
      "              precision    recall  f1-score   support\n",
      "\n",
      "      Attack       0.19      1.00      0.32        11\n",
      "      Normal       1.00      1.00      1.00    522252\n",
      "\n",
      "    accuracy                           1.00    522263\n",
      "   macro avg       0.60      1.00      0.66    522263\n",
      "weighted avg       1.00      1.00      1.00    522263\n",
      "\n"
     ]
    }
   ],
   "source": [
    "y_pred=clf.predict(X_test)\n",
    "print(\"Test Set Performance (Wed):\")\n",
    "print(confusion_matrix(y_test,y_pred))\n",
    "print(classification_report(y_test,y_pred,target_names=['Attack','Normal']))"
   ]
  },
  {
   "cell_type": "code",
   "execution_count": 35,
   "id": "fc99af04-eb39-4de0-8654-3a5f682724f7",
   "metadata": {},
   "outputs": [
    {
     "name": "stdout",
     "output_type": "stream",
     "text": [
      "\n",
      "Final Evaluation (Thu):\n",
      "[[   546   4673]\n",
      " [    46 392330]]\n",
      "              precision    recall  f1-score   support\n",
      "\n",
      "      Attack       0.92      0.10      0.19      5219\n",
      "      Normal       0.99      1.00      0.99    392376\n",
      "\n",
      "    accuracy                           0.99    397595\n",
      "   macro avg       0.96      0.55      0.59    397595\n",
      "weighted avg       0.99      0.99      0.98    397595\n",
      "\n"
     ]
    }
   ],
   "source": [
    "y_eval_pred=clf.predict(X_eval)\n",
    "print(\"\\nFinal Evaluation (Thu):\")\n",
    "print(confusion_matrix(y_eval,y_eval_pred))\n",
    "print(classification_report(y_eval,y_eval_pred, target_names=['Attack','Normal']))"
   ]
  },
  {
   "cell_type": "code",
   "execution_count": null,
   "id": "5af9d8c2-3d2b-47c6-8b6b-609f69b7b3e5",
   "metadata": {},
   "outputs": [],
   "source": []
  }
 ],
 "metadata": {
  "kernelspec": {
   "display_name": "Python 3 (ipykernel)",
   "language": "python",
   "name": "python3"
  },
  "language_info": {
   "codemirror_mode": {
    "name": "ipython",
    "version": 3
   },
   "file_extension": ".py",
   "mimetype": "text/x-python",
   "name": "python",
   "nbconvert_exporter": "python",
   "pygments_lexer": "ipython3",
   "version": "3.12.4"
  }
 },
 "nbformat": 4,
 "nbformat_minor": 5
}
